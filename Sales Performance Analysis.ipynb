{
 "cells": [
  {
   "cell_type": "code",
   "execution_count": 1,
   "id": "9fa017a5",
   "metadata": {},
   "outputs": [],
   "source": [
    "import pandas as pd\n",
    "import numpy as np\n",
    "import seaborn as sns\n",
    "import matplotlib as plt\n",
    "%matplotlib inline"
   ]
  },
  {
   "cell_type": "code",
   "execution_count": 2,
   "id": "bac1c040",
   "metadata": {},
   "outputs": [],
   "source": [
    "data1 = pd.read_csv(\"Performance_Sales_Data.csv\",sep=';',encoding='ISO-8859-1')"
   ]
  },
  {
   "cell_type": "code",
   "execution_count": 3,
   "id": "864e7cff",
   "metadata": {},
   "outputs": [
    {
     "data": {
      "text/html": [
       "<div>\n",
       "<style scoped>\n",
       "    .dataframe tbody tr th:only-of-type {\n",
       "        vertical-align: middle;\n",
       "    }\n",
       "\n",
       "    .dataframe tbody tr th {\n",
       "        vertical-align: top;\n",
       "    }\n",
       "\n",
       "    .dataframe thead th {\n",
       "        text-align: right;\n",
       "    }\n",
       "</style>\n",
       "<table border=\"1\" class=\"dataframe\">\n",
       "  <thead>\n",
       "    <tr style=\"text-align: right;\">\n",
       "      <th></th>\n",
       "      <th>Marktbereich</th>\n",
       "      <th>PHG</th>\n",
       "      <th>Modeserie</th>\n",
       "      <th>PUG</th>\n",
       "      <th>Zielgruppe</th>\n",
       "      <th>Modell</th>\n",
       "      <th>Modell.1</th>\n",
       "      <th>Farbkarte</th>\n",
       "      <th>Farbe</th>\n",
       "      <th>FS18</th>\n",
       "      <th>FS19</th>\n",
       "      <th>FS20</th>\n",
       "      <th>FS21</th>\n",
       "    </tr>\n",
       "  </thead>\n",
       "  <tbody>\n",
       "    <tr>\n",
       "      <th>0</th>\n",
       "      <td>Bike-Sports</td>\n",
       "      <td>Bekleidung</td>\n",
       "      <td>All-Mountain(Bike)</td>\n",
       "      <td>B-Accessories</td>\n",
       "      <td>Damen</td>\n",
       "      <td>4526.0</td>\n",
       "      <td>Wo Dyce Gloves</td>\n",
       "      <td>SCHWARZ</td>\n",
       "      <td>black</td>\n",
       "      <td>0</td>\n",
       "      <td>216</td>\n",
       "      <td>1</td>\n",
       "      <td>0</td>\n",
       "    </tr>\n",
       "    <tr>\n",
       "      <th>1</th>\n",
       "      <td>Bike-Sports</td>\n",
       "      <td>Bekleidung</td>\n",
       "      <td>All-Mountain(Bike)</td>\n",
       "      <td>B-Accessories</td>\n",
       "      <td>Damen</td>\n",
       "      <td>4526.0</td>\n",
       "      <td>Wo Dyce Gloves</td>\n",
       "      <td>TÜRKIS</td>\n",
       "      <td>atlantis</td>\n",
       "      <td>0</td>\n",
       "      <td>1</td>\n",
       "      <td>0</td>\n",
       "      <td>0</td>\n",
       "    </tr>\n",
       "    <tr>\n",
       "      <th>2</th>\n",
       "      <td>Bike-Sports</td>\n",
       "      <td>Bekleidung</td>\n",
       "      <td>All-Mountain(Bike)</td>\n",
       "      <td>B-Accessories</td>\n",
       "      <td>Damen</td>\n",
       "      <td>4526.0</td>\n",
       "      <td>Wo Dyce Gloves</td>\n",
       "      <td>TÜRKIS</td>\n",
       "      <td>reef</td>\n",
       "      <td>0</td>\n",
       "      <td>81</td>\n",
       "      <td>0</td>\n",
       "      <td>0</td>\n",
       "    </tr>\n",
       "    <tr>\n",
       "      <th>3</th>\n",
       "      <td>Bike-Sports</td>\n",
       "      <td>Bekleidung</td>\n",
       "      <td>All-Mountain(Bike)</td>\n",
       "      <td>B-Accessories</td>\n",
       "      <td>Damen</td>\n",
       "      <td>4526.0</td>\n",
       "      <td>Wo Dyce Gloves</td>\n",
       "      <td>TÜRKIS</td>\n",
       "      <td>spring blue</td>\n",
       "      <td>0</td>\n",
       "      <td>33</td>\n",
       "      <td>0</td>\n",
       "      <td>0</td>\n",
       "    </tr>\n",
       "    <tr>\n",
       "      <th>4</th>\n",
       "      <td>Bike-Sports</td>\n",
       "      <td>Bekleidung</td>\n",
       "      <td>All-Mountain(Bike)</td>\n",
       "      <td>B-Accessories</td>\n",
       "      <td>Damen</td>\n",
       "      <td>40471.0</td>\n",
       "      <td>Wo Dyce Gloves II</td>\n",
       "      <td>GRAU</td>\n",
       "      <td>iron</td>\n",
       "      <td>0</td>\n",
       "      <td>157</td>\n",
       "      <td>219</td>\n",
       "      <td>173</td>\n",
       "    </tr>\n",
       "    <tr>\n",
       "      <th>5</th>\n",
       "      <td>Bike-Sports</td>\n",
       "      <td>Bekleidung</td>\n",
       "      <td>All-Mountain(Bike)</td>\n",
       "      <td>B-Accessories</td>\n",
       "      <td>Damen</td>\n",
       "      <td>40471.0</td>\n",
       "      <td>Wo Dyce Gloves II</td>\n",
       "      <td>GRÜN</td>\n",
       "      <td>nickel green</td>\n",
       "      <td>0</td>\n",
       "      <td>99</td>\n",
       "      <td>3</td>\n",
       "      <td>0</td>\n",
       "    </tr>\n",
       "    <tr>\n",
       "      <th>6</th>\n",
       "      <td>Bike-Sports</td>\n",
       "      <td>Bekleidung</td>\n",
       "      <td>All-Mountain(Bike)</td>\n",
       "      <td>B-Accessories</td>\n",
       "      <td>Damen</td>\n",
       "      <td>40471.0</td>\n",
       "      <td>Wo Dyce Gloves II</td>\n",
       "      <td>PINK</td>\n",
       "      <td>crimson red</td>\n",
       "      <td>0</td>\n",
       "      <td>75</td>\n",
       "      <td>78</td>\n",
       "      <td>19</td>\n",
       "    </tr>\n",
       "    <tr>\n",
       "      <th>7</th>\n",
       "      <td>Bike-Sports</td>\n",
       "      <td>Bekleidung</td>\n",
       "      <td>All-Mountain(Bike)</td>\n",
       "      <td>B-Accessories</td>\n",
       "      <td>Damen</td>\n",
       "      <td>40471.0</td>\n",
       "      <td>Wo Dyce Gloves II</td>\n",
       "      <td>ROT</td>\n",
       "      <td>strawberry</td>\n",
       "      <td>0</td>\n",
       "      <td>75</td>\n",
       "      <td>0</td>\n",
       "      <td>0</td>\n",
       "    </tr>\n",
       "    <tr>\n",
       "      <th>8</th>\n",
       "      <td>Bike-Sports</td>\n",
       "      <td>Bekleidung</td>\n",
       "      <td>All-Mountain(Bike)</td>\n",
       "      <td>B-Accessories</td>\n",
       "      <td>Herren</td>\n",
       "      <td>4555.0</td>\n",
       "      <td>Me Dyce Gloves</td>\n",
       "      <td>SCHWARZ</td>\n",
       "      <td>black</td>\n",
       "      <td>0</td>\n",
       "      <td>3</td>\n",
       "      <td>0</td>\n",
       "      <td>0</td>\n",
       "    </tr>\n",
       "    <tr>\n",
       "      <th>9</th>\n",
       "      <td>Bike-Sports</td>\n",
       "      <td>Bekleidung</td>\n",
       "      <td>All-Mountain(Bike)</td>\n",
       "      <td>B-Accessories</td>\n",
       "      <td>Herren</td>\n",
       "      <td>4555.0</td>\n",
       "      <td>Me Dyce Gloves</td>\n",
       "      <td>SCHWARZ</td>\n",
       "      <td>black/red</td>\n",
       "      <td>0</td>\n",
       "      <td>0</td>\n",
       "      <td>0</td>\n",
       "      <td>0</td>\n",
       "    </tr>\n",
       "  </tbody>\n",
       "</table>\n",
       "</div>"
      ],
      "text/plain": [
       "  Marktbereich         PHG           Modeserie            PUG Zielgruppe  \\\n",
       "0  Bike-Sports  Bekleidung  All-Mountain(Bike)  B-Accessories      Damen   \n",
       "1  Bike-Sports  Bekleidung  All-Mountain(Bike)  B-Accessories      Damen   \n",
       "2  Bike-Sports  Bekleidung  All-Mountain(Bike)  B-Accessories      Damen   \n",
       "3  Bike-Sports  Bekleidung  All-Mountain(Bike)  B-Accessories      Damen   \n",
       "4  Bike-Sports  Bekleidung  All-Mountain(Bike)  B-Accessories      Damen   \n",
       "5  Bike-Sports  Bekleidung  All-Mountain(Bike)  B-Accessories      Damen   \n",
       "6  Bike-Sports  Bekleidung  All-Mountain(Bike)  B-Accessories      Damen   \n",
       "7  Bike-Sports  Bekleidung  All-Mountain(Bike)  B-Accessories      Damen   \n",
       "8  Bike-Sports  Bekleidung  All-Mountain(Bike)  B-Accessories     Herren   \n",
       "9  Bike-Sports  Bekleidung  All-Mountain(Bike)  B-Accessories     Herren   \n",
       "\n",
       "    Modell           Modell.1 Farbkarte         Farbe  FS18  FS19  FS20  FS21  \n",
       "0   4526.0     Wo Dyce Gloves   SCHWARZ         black     0   216     1     0  \n",
       "1   4526.0     Wo Dyce Gloves    TÜRKIS      atlantis     0     1     0     0  \n",
       "2   4526.0     Wo Dyce Gloves    TÜRKIS          reef     0    81     0     0  \n",
       "3   4526.0     Wo Dyce Gloves    TÜRKIS   spring blue     0    33     0     0  \n",
       "4  40471.0  Wo Dyce Gloves II      GRAU          iron     0   157   219   173  \n",
       "5  40471.0  Wo Dyce Gloves II      GRÜN  nickel green     0    99     3     0  \n",
       "6  40471.0  Wo Dyce Gloves II      PINK   crimson red     0    75    78    19  \n",
       "7  40471.0  Wo Dyce Gloves II       ROT    strawberry     0    75     0     0  \n",
       "8   4555.0     Me Dyce Gloves   SCHWARZ         black     0     3     0     0  \n",
       "9   4555.0     Me Dyce Gloves   SCHWARZ     black/red     0     0     0     0  "
      ]
     },
     "execution_count": 3,
     "metadata": {},
     "output_type": "execute_result"
    }
   ],
   "source": [
    "data1.head(10)"
   ]
  },
  {
   "cell_type": "code",
   "execution_count": 4,
   "id": "fa0330ba",
   "metadata": {},
   "outputs": [
    {
     "data": {
      "text/plain": [
       "(6052, 13)"
      ]
     },
     "execution_count": 4,
     "metadata": {},
     "output_type": "execute_result"
    }
   ],
   "source": [
    "data1.shape"
   ]
  },
  {
   "cell_type": "code",
   "execution_count": 5,
   "id": "756f3315",
   "metadata": {},
   "outputs": [
    {
     "data": {
      "text/plain": [
       "Marktbereich     0\n",
       "PHG              0\n",
       "Modeserie        0\n",
       "PUG              0\n",
       "Zielgruppe       0\n",
       "Modell           5\n",
       "Modell.1         5\n",
       "Farbkarte       68\n",
       "Farbe           28\n",
       "FS18             0\n",
       "FS19             0\n",
       "FS20             0\n",
       "FS21             0\n",
       "dtype: int64"
      ]
     },
     "execution_count": 5,
     "metadata": {},
     "output_type": "execute_result"
    }
   ],
   "source": [
    "data1.isnull().sum()"
   ]
  },
  {
   "cell_type": "code",
   "execution_count": 6,
   "id": "da898ee7",
   "metadata": {},
   "outputs": [
    {
     "data": {
      "text/html": [
       "<div>\n",
       "<style scoped>\n",
       "    .dataframe tbody tr th:only-of-type {\n",
       "        vertical-align: middle;\n",
       "    }\n",
       "\n",
       "    .dataframe tbody tr th {\n",
       "        vertical-align: top;\n",
       "    }\n",
       "\n",
       "    .dataframe thead th {\n",
       "        text-align: right;\n",
       "    }\n",
       "</style>\n",
       "<table border=\"1\" class=\"dataframe\">\n",
       "  <thead>\n",
       "    <tr style=\"text-align: right;\">\n",
       "      <th></th>\n",
       "      <th>Marktbereich</th>\n",
       "      <th>PHG</th>\n",
       "      <th>Modeserie</th>\n",
       "      <th>PUG</th>\n",
       "      <th>Zielgruppe</th>\n",
       "      <th>Modell</th>\n",
       "      <th>Modell.1</th>\n",
       "      <th>Farbkarte</th>\n",
       "      <th>Farbe</th>\n",
       "      <th>FS18</th>\n",
       "      <th>FS19</th>\n",
       "      <th>FS20</th>\n",
       "      <th>FS21</th>\n",
       "    </tr>\n",
       "  </thead>\n",
       "  <tbody>\n",
       "    <tr>\n",
       "      <th>0</th>\n",
       "      <td>Bike-Sports</td>\n",
       "      <td>Bekleidung</td>\n",
       "      <td>All-Mountain(Bike)</td>\n",
       "      <td>B-Accessories</td>\n",
       "      <td>Damen</td>\n",
       "      <td>4526.0</td>\n",
       "      <td>Wo Dyce Gloves</td>\n",
       "      <td>SCHWARZ</td>\n",
       "      <td>black</td>\n",
       "      <td>0</td>\n",
       "      <td>216</td>\n",
       "      <td>1</td>\n",
       "      <td>0</td>\n",
       "    </tr>\n",
       "    <tr>\n",
       "      <th>1</th>\n",
       "      <td>Bike-Sports</td>\n",
       "      <td>Bekleidung</td>\n",
       "      <td>All-Mountain(Bike)</td>\n",
       "      <td>B-Accessories</td>\n",
       "      <td>Damen</td>\n",
       "      <td>4526.0</td>\n",
       "      <td>Wo Dyce Gloves</td>\n",
       "      <td>TÜRKIS</td>\n",
       "      <td>atlantis</td>\n",
       "      <td>0</td>\n",
       "      <td>1</td>\n",
       "      <td>0</td>\n",
       "      <td>0</td>\n",
       "    </tr>\n",
       "    <tr>\n",
       "      <th>2</th>\n",
       "      <td>Bike-Sports</td>\n",
       "      <td>Bekleidung</td>\n",
       "      <td>All-Mountain(Bike)</td>\n",
       "      <td>B-Accessories</td>\n",
       "      <td>Damen</td>\n",
       "      <td>4526.0</td>\n",
       "      <td>Wo Dyce Gloves</td>\n",
       "      <td>TÜRKIS</td>\n",
       "      <td>reef</td>\n",
       "      <td>0</td>\n",
       "      <td>81</td>\n",
       "      <td>0</td>\n",
       "      <td>0</td>\n",
       "    </tr>\n",
       "    <tr>\n",
       "      <th>3</th>\n",
       "      <td>Bike-Sports</td>\n",
       "      <td>Bekleidung</td>\n",
       "      <td>All-Mountain(Bike)</td>\n",
       "      <td>B-Accessories</td>\n",
       "      <td>Damen</td>\n",
       "      <td>4526.0</td>\n",
       "      <td>Wo Dyce Gloves</td>\n",
       "      <td>TÜRKIS</td>\n",
       "      <td>spring blue</td>\n",
       "      <td>0</td>\n",
       "      <td>33</td>\n",
       "      <td>0</td>\n",
       "      <td>0</td>\n",
       "    </tr>\n",
       "    <tr>\n",
       "      <th>4</th>\n",
       "      <td>Bike-Sports</td>\n",
       "      <td>Bekleidung</td>\n",
       "      <td>All-Mountain(Bike)</td>\n",
       "      <td>B-Accessories</td>\n",
       "      <td>Damen</td>\n",
       "      <td>40471.0</td>\n",
       "      <td>Wo Dyce Gloves II</td>\n",
       "      <td>GRAU</td>\n",
       "      <td>iron</td>\n",
       "      <td>0</td>\n",
       "      <td>157</td>\n",
       "      <td>219</td>\n",
       "      <td>173</td>\n",
       "    </tr>\n",
       "  </tbody>\n",
       "</table>\n",
       "</div>"
      ],
      "text/plain": [
       "  Marktbereich         PHG           Modeserie            PUG Zielgruppe  \\\n",
       "0  Bike-Sports  Bekleidung  All-Mountain(Bike)  B-Accessories      Damen   \n",
       "1  Bike-Sports  Bekleidung  All-Mountain(Bike)  B-Accessories      Damen   \n",
       "2  Bike-Sports  Bekleidung  All-Mountain(Bike)  B-Accessories      Damen   \n",
       "3  Bike-Sports  Bekleidung  All-Mountain(Bike)  B-Accessories      Damen   \n",
       "4  Bike-Sports  Bekleidung  All-Mountain(Bike)  B-Accessories      Damen   \n",
       "\n",
       "    Modell           Modell.1 Farbkarte        Farbe  FS18  FS19  FS20  FS21  \n",
       "0   4526.0     Wo Dyce Gloves   SCHWARZ        black     0   216     1     0  \n",
       "1   4526.0     Wo Dyce Gloves    TÜRKIS     atlantis     0     1     0     0  \n",
       "2   4526.0     Wo Dyce Gloves    TÜRKIS         reef     0    81     0     0  \n",
       "3   4526.0     Wo Dyce Gloves    TÜRKIS  spring blue     0    33     0     0  \n",
       "4  40471.0  Wo Dyce Gloves II      GRAU         iron     0   157   219   173  "
      ]
     },
     "execution_count": 6,
     "metadata": {},
     "output_type": "execute_result"
    }
   ],
   "source": [
    "data1 = data1.dropna(how='any')\n",
    "data1.head()"
   ]
  },
  {
   "cell_type": "code",
   "execution_count": 7,
   "id": "edd621d3",
   "metadata": {},
   "outputs": [
    {
     "name": "stdout",
     "output_type": "stream",
     "text": [
      "<class 'pandas.core.frame.DataFrame'>\n",
      "Int64Index: 5956 entries, 0 to 6051\n",
      "Data columns (total 13 columns):\n",
      " #   Column        Non-Null Count  Dtype  \n",
      "---  ------        --------------  -----  \n",
      " 0   Marktbereich  5956 non-null   object \n",
      " 1   PHG           5956 non-null   object \n",
      " 2   Modeserie     5956 non-null   object \n",
      " 3   PUG           5956 non-null   object \n",
      " 4   Zielgruppe    5956 non-null   object \n",
      " 5   Modell        5956 non-null   float64\n",
      " 6   Modell.1      5956 non-null   object \n",
      " 7   Farbkarte     5956 non-null   object \n",
      " 8   Farbe         5956 non-null   object \n",
      " 9   FS18          5956 non-null   int64  \n",
      " 10  FS19          5956 non-null   int64  \n",
      " 11  FS20          5956 non-null   int64  \n",
      " 12  FS21          5956 non-null   int64  \n",
      "dtypes: float64(1), int64(4), object(8)\n",
      "memory usage: 651.4+ KB\n"
     ]
    }
   ],
   "source": [
    "data1.info()"
   ]
  },
  {
   "cell_type": "code",
   "execution_count": 8,
   "id": "51655907",
   "metadata": {},
   "outputs": [
    {
     "data": {
      "text/plain": [
       "(5956, 13)"
      ]
     },
     "execution_count": 8,
     "metadata": {},
     "output_type": "execute_result"
    }
   ],
   "source": [
    "data1.shape"
   ]
  },
  {
   "cell_type": "code",
   "execution_count": 9,
   "id": "6d1152a5",
   "metadata": {},
   "outputs": [
    {
     "data": {
      "text/plain": [
       "Marktbereich    0\n",
       "PHG             0\n",
       "Modeserie       0\n",
       "PUG             0\n",
       "Zielgruppe      0\n",
       "Modell          0\n",
       "Modell.1        0\n",
       "Farbkarte       0\n",
       "Farbe           0\n",
       "FS18            0\n",
       "FS19            0\n",
       "FS20            0\n",
       "FS21            0\n",
       "dtype: int64"
      ]
     },
     "execution_count": 9,
     "metadata": {},
     "output_type": "execute_result"
    }
   ],
   "source": [
    "data1.isnull().sum()"
   ]
  },
  {
   "cell_type": "code",
   "execution_count": 11,
   "id": "2f277780",
   "metadata": {},
   "outputs": [
    {
     "data": {
      "text/plain": [
       "(5956, 13)"
      ]
     },
     "execution_count": 11,
     "metadata": {},
     "output_type": "execute_result"
    }
   ],
   "source": [
    "data1.shape"
   ]
  },
  {
   "cell_type": "code",
   "execution_count": 10,
   "id": "0e207518",
   "metadata": {},
   "outputs": [],
   "source": [
    "data1.to_csv('Cleaned_Sales_data.csv')"
   ]
  },
  {
   "cell_type": "code",
   "execution_count": 11,
   "id": "baa3e94e",
   "metadata": {},
   "outputs": [
    {
     "data": {
      "text/plain": [
       "Index(['Marktbereich', 'PHG', 'Modeserie', 'PUG', 'Zielgruppe', 'Modell',\n",
       "       'Modell.1', 'Farbkarte', 'Farbe', 'FS18', 'FS19', 'FS20', 'FS21'],\n",
       "      dtype='object')"
      ]
     },
     "execution_count": 11,
     "metadata": {},
     "output_type": "execute_result"
    }
   ],
   "source": [
    "data1.columns"
   ]
  },
  {
   "cell_type": "code",
   "execution_count": 12,
   "id": "58459356",
   "metadata": {},
   "outputs": [
    {
     "data": {
      "text/plain": [
       "Mountain-Sports    3416\n",
       "Bike-Sports        1913\n",
       "Packs-n-Bags        627\n",
       "Name: Marktbereich, dtype: int64"
      ]
     },
     "execution_count": 12,
     "metadata": {},
     "output_type": "execute_result"
    }
   ],
   "source": [
    "data1[\"Marktbereich\"].value_counts()"
   ]
  },
  {
   "cell_type": "code",
   "execution_count": 13,
   "id": "d779f108",
   "metadata": {},
   "outputs": [
    {
     "data": {
      "text/plain": [
       "Bekleidung    4058\n",
       "Rucksaecke    1690\n",
       "Schuhe         208\n",
       "Name: PHG, dtype: int64"
      ]
     },
     "execution_count": 13,
     "metadata": {},
     "output_type": "execute_result"
    }
   ],
   "source": [
    "data1[\"PHG\"].value_counts()"
   ]
  },
  {
   "cell_type": "code",
   "execution_count": 14,
   "id": "d7b2d0bb",
   "metadata": {
    "scrolled": true
   },
   "outputs": [
    {
     "data": {
      "text/plain": [
       "<matplotlib.axes._subplots.AxesSubplot at 0x21a4c3ec668>"
      ]
     },
     "execution_count": 14,
     "metadata": {},
     "output_type": "execute_result"
    },
    {
     "data": {
      "image/png": "[encoded data removed]",
      "text/plain": [
       "<Figure size 432x288 with 1 Axes>"
      ]
     },
     "metadata": {},
     "output_type": "display_data"
    }
   ],
   "source": [
    "data1[\"PHG\"].value_counts().head(10).plot(kind=\"pie\")"
   ]
  },
  {
   "cell_type": "code",
   "execution_count": 36,
   "id": "35e98e30",
   "metadata": {},
   "outputs": [
    {
     "name": "stderr",
     "output_type": "stream",
     "text": [
      "C:\\Users\\Rohan\\Anaconda3\\lib\\site-packages\\ipykernel_launcher.py:10: MatplotlibDeprecationWarning: Non-1D inputs to pie() are currently squeeze()d, but this behavior is deprecated since 3.1 and will be removed in 3.3; pass a 1D array instead.\n",
      "  # Remove the CWD from sys.path while we load stuff.\n"
     ]
    },
    {
     "data": {
      "image/png": "[encoded data removed]",
      "text/plain": [
       "<Figure size 432x288 with 1 Axes>"
      ]
     },
     "metadata": {},
     "output_type": "display_data"
    }
   ],
   "source": [
    "from pandas import DataFrame\n",
    "import matplotlib.pyplot as plt\n",
    "\n",
    "Data2 = {'PHG': [1690,4058,208]}\n",
    "df2 = DataFrame(Data2,columns=['PHG'])\n",
    "\n",
    "my_labels = 'Rucksaecke','Bekleidung','Schuhe'\n",
    "my_colors = ['lightblue','lightsteelblue','silver']\n",
    "my_explode = (0, 0.1, 0)\n",
    "plt.pie(df2, labels=my_labels, autopct='%1.1f%%', startangle=15, shadow = True, colors=my_colors, explode=my_explode)\n",
    "plt.title('Product Categories Distribution')\n",
    "plt.axis('equal')\n",
    "plt.show()"
   ]
  },
  {
   "cell_type": "code",
   "execution_count": 15,
   "id": "ff0cc37e",
   "metadata": {},
   "outputs": [
    {
     "data": {
      "text/html": [
       "<div>\n",
       "<style scoped>\n",
       "    .dataframe tbody tr th:only-of-type {\n",
       "        vertical-align: middle;\n",
       "    }\n",
       "\n",
       "    .dataframe tbody tr th {\n",
       "        vertical-align: top;\n",
       "    }\n",
       "\n",
       "    .dataframe thead th {\n",
       "        text-align: right;\n",
       "    }\n",
       "</style>\n",
       "<table border=\"1\" class=\"dataframe\">\n",
       "  <thead>\n",
       "    <tr style=\"text-align: right;\">\n",
       "      <th></th>\n",
       "      <th>Marktbereich</th>\n",
       "      <th>PHG</th>\n",
       "      <th>Modeserie</th>\n",
       "      <th>PUG</th>\n",
       "      <th>Zielgruppe</th>\n",
       "      <th>Modell</th>\n",
       "      <th>Modell.1</th>\n",
       "      <th>Farbkarte</th>\n",
       "      <th>Farbe</th>\n",
       "      <th>FS18</th>\n",
       "      <th>FS19</th>\n",
       "      <th>FS20</th>\n",
       "      <th>FS21</th>\n",
       "    </tr>\n",
       "  </thead>\n",
       "  <tbody>\n",
       "    <tr>\n",
       "      <th>0</th>\n",
       "      <td>Bike-Sports</td>\n",
       "      <td>Bekleidung</td>\n",
       "      <td>All-Mountain(Bike)</td>\n",
       "      <td>B-Accessories</td>\n",
       "      <td>Damen</td>\n",
       "      <td>4526.0</td>\n",
       "      <td>Wo Dyce Gloves</td>\n",
       "      <td>SCHWARZ</td>\n",
       "      <td>black</td>\n",
       "      <td>0</td>\n",
       "      <td>216</td>\n",
       "      <td>1</td>\n",
       "      <td>0</td>\n",
       "    </tr>\n",
       "    <tr>\n",
       "      <th>1</th>\n",
       "      <td>Bike-Sports</td>\n",
       "      <td>Bekleidung</td>\n",
       "      <td>All-Mountain(Bike)</td>\n",
       "      <td>B-Accessories</td>\n",
       "      <td>Damen</td>\n",
       "      <td>4526.0</td>\n",
       "      <td>Wo Dyce Gloves</td>\n",
       "      <td>TÜRKIS</td>\n",
       "      <td>atlantis</td>\n",
       "      <td>0</td>\n",
       "      <td>1</td>\n",
       "      <td>0</td>\n",
       "      <td>0</td>\n",
       "    </tr>\n",
       "    <tr>\n",
       "      <th>2</th>\n",
       "      <td>Bike-Sports</td>\n",
       "      <td>Bekleidung</td>\n",
       "      <td>All-Mountain(Bike)</td>\n",
       "      <td>B-Accessories</td>\n",
       "      <td>Damen</td>\n",
       "      <td>4526.0</td>\n",
       "      <td>Wo Dyce Gloves</td>\n",
       "      <td>TÜRKIS</td>\n",
       "      <td>reef</td>\n",
       "      <td>0</td>\n",
       "      <td>81</td>\n",
       "      <td>0</td>\n",
       "      <td>0</td>\n",
       "    </tr>\n",
       "    <tr>\n",
       "      <th>3</th>\n",
       "      <td>Bike-Sports</td>\n",
       "      <td>Bekleidung</td>\n",
       "      <td>All-Mountain(Bike)</td>\n",
       "      <td>B-Accessories</td>\n",
       "      <td>Damen</td>\n",
       "      <td>4526.0</td>\n",
       "      <td>Wo Dyce Gloves</td>\n",
       "      <td>TÜRKIS</td>\n",
       "      <td>spring blue</td>\n",
       "      <td>0</td>\n",
       "      <td>33</td>\n",
       "      <td>0</td>\n",
       "      <td>0</td>\n",
       "    </tr>\n",
       "    <tr>\n",
       "      <th>4</th>\n",
       "      <td>Bike-Sports</td>\n",
       "      <td>Bekleidung</td>\n",
       "      <td>All-Mountain(Bike)</td>\n",
       "      <td>B-Accessories</td>\n",
       "      <td>Damen</td>\n",
       "      <td>40471.0</td>\n",
       "      <td>Wo Dyce Gloves II</td>\n",
       "      <td>GRAU</td>\n",
       "      <td>iron</td>\n",
       "      <td>0</td>\n",
       "      <td>157</td>\n",
       "      <td>219</td>\n",
       "      <td>173</td>\n",
       "    </tr>\n",
       "  </tbody>\n",
       "</table>\n",
       "</div>"
      ],
      "text/plain": [
       "  Marktbereich         PHG           Modeserie            PUG Zielgruppe  \\\n",
       "0  Bike-Sports  Bekleidung  All-Mountain(Bike)  B-Accessories      Damen   \n",
       "1  Bike-Sports  Bekleidung  All-Mountain(Bike)  B-Accessories      Damen   \n",
       "2  Bike-Sports  Bekleidung  All-Mountain(Bike)  B-Accessories      Damen   \n",
       "3  Bike-Sports  Bekleidung  All-Mountain(Bike)  B-Accessories      Damen   \n",
       "4  Bike-Sports  Bekleidung  All-Mountain(Bike)  B-Accessories      Damen   \n",
       "\n",
       "    Modell           Modell.1 Farbkarte        Farbe  FS18  FS19  FS20  FS21  \n",
       "0   4526.0     Wo Dyce Gloves   SCHWARZ        black     0   216     1     0  \n",
       "1   4526.0     Wo Dyce Gloves    TÜRKIS     atlantis     0     1     0     0  \n",
       "2   4526.0     Wo Dyce Gloves    TÜRKIS         reef     0    81     0     0  \n",
       "3   4526.0     Wo Dyce Gloves    TÜRKIS  spring blue     0    33     0     0  \n",
       "4  40471.0  Wo Dyce Gloves II      GRAU         iron     0   157   219   173  "
      ]
     },
     "execution_count": 15,
     "metadata": {},
     "output_type": "execute_result"
    }
   ],
   "source": [
    "types_clothing = data1.groupby('PHG').get_group('Bekleidung')\n",
    "types_clothing.head()"
   ]
  },
  {
   "cell_type": "code",
   "execution_count": 16,
   "id": "2d8852f6",
   "metadata": {},
   "outputs": [
    {
     "data": {
      "text/plain": [
       "Bekleidung    4058\n",
       "Name: PHG, dtype: int64"
      ]
     },
     "execution_count": 16,
     "metadata": {},
     "output_type": "execute_result"
    }
   ],
   "source": [
    "types_clothing['PHG'].value_counts()"
   ]
  },
  {
   "cell_type": "code",
   "execution_count": 17,
   "id": "a6b75b2b",
   "metadata": {},
   "outputs": [
    {
     "data": {
      "text/plain": [
       "B-Hose           1160\n",
       "B-T-Shirt         966\n",
       "B-Accessories     634\n",
       "B-Hemd-Bluse      263\n",
       "B-Trikot          251\n",
       "B-Doppeljacke     213\n",
       "B-Pullover        208\n",
       "B-Weste           180\n",
       "B-Top              69\n",
       "B-Kleid-Rock       62\n",
       "B-Poncho           28\n",
       "B-Overall          22\n",
       "B-Ersatzteil        2\n",
       "Name: PUG, dtype: int64"
      ]
     },
     "execution_count": 17,
     "metadata": {},
     "output_type": "execute_result"
    }
   ],
   "source": [
    "types_clothing['PUG'].value_counts()"
   ]
  },
  {
   "cell_type": "code",
   "execution_count": 18,
   "id": "da5dc849",
   "metadata": {},
   "outputs": [
    {
     "data": {
      "text/plain": [
       "<matplotlib.axes._subplots.AxesSubplot at 0x21a4cbc55c0>"
      ]
     },
     "execution_count": 18,
     "metadata": {},
     "output_type": "execute_result"
    },
    {
     "data": {
      "image/png": "[encoded data removed]",
      "text/plain": [
       "<Figure size 432x288 with 1 Axes>"
      ]
     },
     "metadata": {
      "needs_background": "light"
     },
     "output_type": "display_data"
    }
   ],
   "source": [
    "types_clothing[\"PUG\"].value_counts().plot(kind=\"bar\",color='lightgreen')"
   ]
  },
  {
   "cell_type": "code",
   "execution_count": 19,
   "id": "b530a84d",
   "metadata": {},
   "outputs": [
    {
     "data": {
      "text/plain": [
       "<matplotlib.axes._subplots.AxesSubplot at 0x21a4cc62128>"
      ]
     },
     "execution_count": 19,
     "metadata": {},
     "output_type": "execute_result"
    },
    {
     "data": {
      "image/png": "[encoded data removed]",
      "text/plain": [
       "<Figure size 432x288 with 1 Axes>"
      ]
     },
     "metadata": {
      "needs_background": "light"
     },
     "output_type": "display_data"
    }
   ],
   "source": [
    "data1[\"Zielgruppe\"].value_counts().plot(kind=\"bar\",color='orange')"
   ]
  },
  {
   "cell_type": "code",
   "execution_count": 20,
   "id": "53e148cc",
   "metadata": {},
   "outputs": [
    {
     "data": {
      "text/plain": [
       "<matplotlib.axes._subplots.AxesSubplot at 0x21a4ccd39e8>"
      ]
     },
     "execution_count": 20,
     "metadata": {},
     "output_type": "execute_result"
    },
    {
     "data": {
      "image/png": "[encoded data removed]",
      "text/plain": [
       "<Figure size 432x288 with 1 Axes>"
      ]
     },
     "metadata": {
      "needs_background": "light"
     },
     "output_type": "display_data"
    }
   ],
   "source": [
    "data1[\"Farbe\"].value_counts().head(10).plot(kind=\"bar\")"
   ]
  },
  {
   "cell_type": "code",
   "execution_count": 21,
   "id": "a7a8e4ac",
   "metadata": {},
   "outputs": [
    {
     "data": {
      "text/plain": [
       "<matplotlib.axes._subplots.AxesSubplot at 0x21a4cd316d8>"
      ]
     },
     "execution_count": 21,
     "metadata": {},
     "output_type": "execute_result"
    },
    {
     "data": {
      "image/png": "[encoded data removed]",
      "text/plain": [
       "<Figure size 432x288 with 1 Axes>"
      ]
     },
     "metadata": {
      "needs_background": "light"
     },
     "output_type": "display_data"
    }
   ],
   "source": [
    "sns.countplot(data1['Zielgruppe'])"
   ]
  },
  {
   "cell_type": "code",
   "execution_count": 22,
   "id": "4e6322a8",
   "metadata": {},
   "outputs": [
    {
     "data": {
      "text/plain": [
       "<matplotlib.axes._subplots.AxesSubplot at 0x21a4cdae668>"
      ]
     },
     "execution_count": 22,
     "metadata": {},
     "output_type": "execute_result"
    },
    {
     "data": {
      "image/png": "[encoded data removed]",
      "text/plain": [
       "<Figure size 432x288 with 1 Axes>"
      ]
     },
     "metadata": {},
     "output_type": "display_data"
    }
   ],
   "source": [
    "data1.groupby('PUG').sum()['FS21'].head().plot(kind=\"pie\")"
   ]
  },
  {
   "cell_type": "markdown",
   "id": "36dbb70f",
   "metadata": {},
   "source": [
    "# For FS 21"
   ]
  },
  {
   "cell_type": "code",
   "execution_count": 23,
   "id": "2581c85c",
   "metadata": {},
   "outputs": [],
   "source": [
    "data_FS21 = data1.drop([\"FS18\", \"FS19\", \"FS20\"], axis=1)"
   ]
  },
  {
   "cell_type": "code",
   "execution_count": 24,
   "id": "ae2a5f39",
   "metadata": {},
   "outputs": [
    {
     "data": {
      "text/html": [
       "<div>\n",
       "<style scoped>\n",
       "    .dataframe tbody tr th:only-of-type {\n",
       "        vertical-align: middle;\n",
       "    }\n",
       "\n",
       "    .dataframe tbody tr th {\n",
       "        vertical-align: top;\n",
       "    }\n",
       "\n",
       "    .dataframe thead th {\n",
       "        text-align: right;\n",
       "    }\n",
       "</style>\n",
       "<table border=\"1\" class=\"dataframe\">\n",
       "  <thead>\n",
       "    <tr style=\"text-align: right;\">\n",
       "      <th></th>\n",
       "      <th>Marktbereich</th>\n",
       "      <th>PHG</th>\n",
       "      <th>Modeserie</th>\n",
       "      <th>PUG</th>\n",
       "      <th>Zielgruppe</th>\n",
       "      <th>Modell</th>\n",
       "      <th>Modell.1</th>\n",
       "      <th>Farbkarte</th>\n",
       "      <th>Farbe</th>\n",
       "      <th>FS21</th>\n",
       "    </tr>\n",
       "  </thead>\n",
       "  <tbody>\n",
       "    <tr>\n",
       "      <th>0</th>\n",
       "      <td>Bike-Sports</td>\n",
       "      <td>Bekleidung</td>\n",
       "      <td>All-Mountain(Bike)</td>\n",
       "      <td>B-Accessories</td>\n",
       "      <td>Damen</td>\n",
       "      <td>4526.0</td>\n",
       "      <td>Wo Dyce Gloves</td>\n",
       "      <td>SCHWARZ</td>\n",
       "      <td>black</td>\n",
       "      <td>0</td>\n",
       "    </tr>\n",
       "    <tr>\n",
       "      <th>1</th>\n",
       "      <td>Bike-Sports</td>\n",
       "      <td>Bekleidung</td>\n",
       "      <td>All-Mountain(Bike)</td>\n",
       "      <td>B-Accessories</td>\n",
       "      <td>Damen</td>\n",
       "      <td>4526.0</td>\n",
       "      <td>Wo Dyce Gloves</td>\n",
       "      <td>TÜRKIS</td>\n",
       "      <td>atlantis</td>\n",
       "      <td>0</td>\n",
       "    </tr>\n",
       "    <tr>\n",
       "      <th>2</th>\n",
       "      <td>Bike-Sports</td>\n",
       "      <td>Bekleidung</td>\n",
       "      <td>All-Mountain(Bike)</td>\n",
       "      <td>B-Accessories</td>\n",
       "      <td>Damen</td>\n",
       "      <td>4526.0</td>\n",
       "      <td>Wo Dyce Gloves</td>\n",
       "      <td>TÜRKIS</td>\n",
       "      <td>reef</td>\n",
       "      <td>0</td>\n",
       "    </tr>\n",
       "    <tr>\n",
       "      <th>3</th>\n",
       "      <td>Bike-Sports</td>\n",
       "      <td>Bekleidung</td>\n",
       "      <td>All-Mountain(Bike)</td>\n",
       "      <td>B-Accessories</td>\n",
       "      <td>Damen</td>\n",
       "      <td>4526.0</td>\n",
       "      <td>Wo Dyce Gloves</td>\n",
       "      <td>TÜRKIS</td>\n",
       "      <td>spring blue</td>\n",
       "      <td>0</td>\n",
       "    </tr>\n",
       "    <tr>\n",
       "      <th>4</th>\n",
       "      <td>Bike-Sports</td>\n",
       "      <td>Bekleidung</td>\n",
       "      <td>All-Mountain(Bike)</td>\n",
       "      <td>B-Accessories</td>\n",
       "      <td>Damen</td>\n",
       "      <td>40471.0</td>\n",
       "      <td>Wo Dyce Gloves II</td>\n",
       "      <td>GRAU</td>\n",
       "      <td>iron</td>\n",
       "      <td>173</td>\n",
       "    </tr>\n",
       "  </tbody>\n",
       "</table>\n",
       "</div>"
      ],
      "text/plain": [
       "  Marktbereich         PHG           Modeserie            PUG Zielgruppe  \\\n",
       "0  Bike-Sports  Bekleidung  All-Mountain(Bike)  B-Accessories      Damen   \n",
       "1  Bike-Sports  Bekleidung  All-Mountain(Bike)  B-Accessories      Damen   \n",
       "2  Bike-Sports  Bekleidung  All-Mountain(Bike)  B-Accessories      Damen   \n",
       "3  Bike-Sports  Bekleidung  All-Mountain(Bike)  B-Accessories      Damen   \n",
       "4  Bike-Sports  Bekleidung  All-Mountain(Bike)  B-Accessories      Damen   \n",
       "\n",
       "    Modell           Modell.1 Farbkarte        Farbe  FS21  \n",
       "0   4526.0     Wo Dyce Gloves   SCHWARZ        black     0  \n",
       "1   4526.0     Wo Dyce Gloves    TÜRKIS     atlantis     0  \n",
       "2   4526.0     Wo Dyce Gloves    TÜRKIS         reef     0  \n",
       "3   4526.0     Wo Dyce Gloves    TÜRKIS  spring blue     0  \n",
       "4  40471.0  Wo Dyce Gloves II      GRAU         iron   173  "
      ]
     },
     "execution_count": 24,
     "metadata": {},
     "output_type": "execute_result"
    }
   ],
   "source": [
    "data_FS21.head()"
   ]
  },
  {
   "cell_type": "code",
   "execution_count": 25,
   "id": "aa0453b7",
   "metadata": {},
   "outputs": [
    {
     "data": {
      "text/plain": [
       "<matplotlib.axes._subplots.AxesSubplot at 0x21a4cdfbfd0>"
      ]
     },
     "execution_count": 25,
     "metadata": {},
     "output_type": "execute_result"
    },
    {
     "data": {
      "image/png": "[encoded data removed]",
      "text/plain": [
       "<Figure size 432x288 with 1 Axes>"
      ]
     },
     "metadata": {
      "needs_background": "light"
     },
     "output_type": "display_data"
    }
   ],
   "source": [
    "data_FS21[\"Zielgruppe\"].value_counts().plot(kind=\"bar\",color='pink')"
   ]
  },
  {
   "cell_type": "code",
   "execution_count": 26,
   "id": "9b6171ad",
   "metadata": {},
   "outputs": [
    {
     "data": {
      "text/plain": [
       "<matplotlib.axes._subplots.AxesSubplot at 0x21a4ce5aa90>"
      ]
     },
     "execution_count": 26,
     "metadata": {},
     "output_type": "execute_result"
    },
    {
     "data": {
      "image/png": "[encoded data removed]",
      "text/plain": [
       "<Figure size 432x288 with 1 Axes>"
      ]
     },
     "metadata": {
      "needs_background": "light"
     },
     "output_type": "display_data"
    }
   ],
   "source": [
    "data_FS21[\"Farbe\"].value_counts().head(10).plot(kind=\"bar\",color='gray')"
   ]
  },
  {
   "cell_type": "code",
   "execution_count": 27,
   "id": "27eb7499",
   "metadata": {},
   "outputs": [
    {
     "data": {
      "text/plain": [
       "1285900"
      ]
     },
     "execution_count": 27,
     "metadata": {},
     "output_type": "execute_result"
    }
   ],
   "source": [
    "data_FS21['FS21'].sum()"
   ]
  },
  {
   "cell_type": "code",
   "execution_count": 28,
   "id": "b93b9732",
   "metadata": {},
   "outputs": [
    {
     "data": {
      "text/plain": [
       "PUG\n",
       "B-Accessories                179326\n",
       "B-Doppeljacke                  5427\n",
       "B-Ersatzteil                     42\n",
       "B-Hemd-Bluse                  24551\n",
       "B-Hose                       316809\n",
       "B-Kleid-Rock                   8298\n",
       "B-Overall                       664\n",
       "B-Poncho                      22910\n",
       "B-Pullover                     6888\n",
       "B-T-Shirt                    166501\n",
       "B-Top                         15786\n",
       "B-Trikot                      23545\n",
       "B-Weste                       23131\n",
       "R-Acc-Erste-Hilfe              5050\n",
       "R-Acc-Kit                       554\n",
       "R-Acc-Waschbeutel               481\n",
       "R-Acc-Wertsachentransport       816\n",
       "R-Accessories                 14415\n",
       "R-Ersatzteil                   5737\n",
       "R-Kindertragen                 1498\n",
       "R-Reisegepaeck                 2691\n",
       "R-Rucksaecke10-14L            31609\n",
       "R-Rucksaecke15-19L            14469\n",
       "R-Rucksaecke20-29L            35975\n",
       "R-Rucksaecke30-39L            14585\n",
       "R-Rucksaecke40-49L             1592\n",
       "R-Rucksaecke5-9L              10156\n",
       "R-Rucksaecke<5L                   2\n",
       "R-Rucksaecke>=50L              4046\n",
       "R-Taschen-ab8                  5763\n",
       "R-Taschen-bis7,5               4936\n",
       "R-Zubehoer                     5543\n",
       "RT-Accessories                19093\n",
       "RT-Ersatzteil                  6717\n",
       "RT-Gepäckträgertaschen        29597\n",
       "RT-Hinterradtaschen          106978\n",
       "RT-Lenkertaschen              21050\n",
       "RT-Rahmentaschen              33401\n",
       "RT-Satteltaschen              62505\n",
       "RT-Vorderradtaschen            6895\n",
       "Sch-High-Cut                    846\n",
       "Sch-Low-Cut                   41123\n",
       "Sch-Mid-Cut                    3400\n",
       "Sch-Sandalen                    499\n",
       "Name: FS21, dtype: int64"
      ]
     },
     "execution_count": 28,
     "metadata": {},
     "output_type": "execute_result"
    }
   ],
   "source": [
    "FS21_PUG= data_FS21.groupby(['PUG'], as_index=True)['FS21'].sum()\n",
    "FS21_PUG\n"
   ]
  },
  {
   "cell_type": "code",
   "execution_count": 29,
   "id": "6dfdd595",
   "metadata": {},
   "outputs": [
    {
     "data": {
      "text/plain": [
       "PUG\n",
       "B-Hose                 316809\n",
       "B-Accessories          179326\n",
       "B-T-Shirt              166501\n",
       "RT-Hinterradtaschen    106978\n",
       "RT-Satteltaschen        62505\n",
       "Name: FS21, dtype: int64"
      ]
     },
     "execution_count": 29,
     "metadata": {},
     "output_type": "execute_result"
    }
   ],
   "source": [
    "FS21_PUG_top= FS21_PUG.nlargest(5)\n",
    "FS21_PUG_top"
   ]
  },
  {
   "cell_type": "code",
   "execution_count": 52,
   "id": "389e8504",
   "metadata": {},
   "outputs": [
    {
     "data": {
      "image/png": "[encoded data removed]",
      "text/plain": [
       "<Figure size 432x288 with 1 Axes>"
      ]
     },
     "metadata": {
      "needs_background": "light"
     },
     "output_type": "display_data"
    }
   ],
   "source": [
    "import matplotlib.pyplot as plt\n",
    "import pandas as pd\n",
    "   \n",
    "FS21_PUG_top_1 = {'PUG': ['B-Hose','B-Accessories','B-T-Shirt','RT-Hinterradtaschen','RT-Satteltaschen'],\n",
    "        'No. Items Sold': [316809,179326,166501,106978,62505]\n",
    "       }\n",
    "df3 = pd.DataFrame(FS21_PUG_top_1,columns=['PUG','No. Items Sold'])\n",
    "\n",
    "New_Colors = ['teal','purple','blue','brown','green']\n",
    "plt.bar(df3['PUG'], df3['No. Items Sold'], color=New_Colors)\n",
    "plt.title('Trending Fashion Items', fontsize=16)\n",
    "plt.xlabel('PUG', fontsize=14)\n",
    "plt.ylabel('No. Items Sold', fontsize=14)\n",
    "plt.xticks(rotation=45)\n",
    "plt.grid(False)\n",
    "plt.show()"
   ]
  },
  {
   "cell_type": "code",
   "execution_count": 32,
   "id": "83456f8a",
   "metadata": {},
   "outputs": [
    {
     "ename": "AttributeError",
     "evalue": "module 'matplotlib' has no attribute 'title'",
     "output_type": "error",
     "traceback": [
      "\u001b[1;31m---------------------------------------------------------------------------\u001b[0m",
      "\u001b[1;31mAttributeError\u001b[0m                            Traceback (most recent call last)",
      "\u001b[1;32m<ipython-input-32-b62e66ca5300>\u001b[0m in \u001b[0;36m<module>\u001b[1;34m\u001b[0m\n\u001b[0;32m      2\u001b[0m \u001b[1;33m\u001b[0m\u001b[0m\n\u001b[0;32m      3\u001b[0m \u001b[0mFS21_PUG_top\u001b[0m\u001b[1;33m.\u001b[0m\u001b[0mplot\u001b[0m\u001b[1;33m.\u001b[0m\u001b[0mbar\u001b[0m\u001b[1;33m(\u001b[0m\u001b[0mrot\u001b[0m\u001b[1;33m=\u001b[0m\u001b[1;36m30\u001b[0m\u001b[1;33m,\u001b[0m \u001b[0mcolor\u001b[0m\u001b[1;33m=\u001b[0m\u001b[1;34m'Green'\u001b[0m\u001b[1;33m)\u001b[0m\u001b[1;33m\u001b[0m\u001b[1;33m\u001b[0m\u001b[0m\n\u001b[1;32m----> 4\u001b[1;33m \u001b[0mplt\u001b[0m\u001b[1;33m.\u001b[0m\u001b[0mtitle\u001b[0m\u001b[1;33m(\u001b[0m\u001b[1;34m'Trending Products in FS21'\u001b[0m\u001b[1;33m)\u001b[0m\u001b[1;33m\u001b[0m\u001b[1;33m\u001b[0m\u001b[0m\n\u001b[0m\u001b[0;32m      5\u001b[0m \u001b[0mplt\u001b[0m\u001b[1;33m.\u001b[0m\u001b[0mylabel\u001b[0m\u001b[1;33m(\u001b[0m\u001b[1;34m'Quantity'\u001b[0m\u001b[1;33m)\u001b[0m\u001b[1;33m\u001b[0m\u001b[1;33m\u001b[0m\u001b[0m\n\u001b[0;32m      6\u001b[0m \u001b[0mplt\u001b[0m\u001b[1;33m.\u001b[0m\u001b[0mxlabel\u001b[0m\u001b[1;33m(\u001b[0m\u001b[1;34m'Fashion Products'\u001b[0m\u001b[1;33m)\u001b[0m\u001b[1;33m\u001b[0m\u001b[1;33m\u001b[0m\u001b[0m\n",
      "\u001b[1;31mAttributeError\u001b[0m: module 'matplotlib' has no attribute 'title'"
     ]
    },
    {
     "data": {
      "image/png": "[encoded data removed]",
      "text/plain": [
       "<Figure size 432x288 with 1 Axes>"
      ]
     },
     "metadata": {
      "needs_background": "light"
     },
     "output_type": "display_data"
    }
   ],
   "source": [
    "#FS21_PUG_top.plot.barh(x='Count',color='Orange')\n",
    "\n",
    "FS21_PUG_top.plot.bar(rot=30, color='Green')\n",
    "plt.title('Trending Products in FS21')\n",
    "plt.ylabel('Quantity')\n",
    "plt.xlabel('Fashion Products')\n",
    "plt.show()"
   ]
  }
 ],
 "metadata": {
  "kernelspec": {
   "display_name": "Python 3",
   "language": "python",
   "name": "python3"
  },
  "language_info": {
   "codemirror_mode": {
    "name": "ipython",
    "version": 3
   },
   "file_extension": ".py",
   "mimetype": "text/x-python",
   "name": "python",
   "nbconvert_exporter": "python",
   "pygments_lexer": "ipython3",
   "version": "3.8.8"
  }
 },
 "nbformat": 4,
 "nbformat_minor": 5
}
